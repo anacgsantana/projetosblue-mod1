{
  "nbformat": 4,
  "nbformat_minor": 0,
  "metadata": {
    "colab": {
      "name": "Projeto 01 - Detetive (Resolvido).ipynb",
      "provenance": [],
      "collapsed_sections": [],
      "authorship_tag": "ABX9TyPkCC+71eSkZ+MbbSbH4rpR",
      "include_colab_link": true
    },
    "kernelspec": {
      "name": "python3",
      "display_name": "Python 3"
    },
    "language_info": {
      "name": "python"
    }
  },
  "cells": [
    {
      "cell_type": "markdown",
      "metadata": {
        "id": "view-in-github",
        "colab_type": "text"
      },
      "source": [
        "<a href=\"https://colab.research.google.com/github/anacgsantana/projetosblue-mod1-/blob/main/Projeto_01_Detetive_(Resolvido).ipynb\" target=\"_parent\"><img src=\"https://colab.research.google.com/assets/colab-badge.svg\" alt=\"Open In Colab\"/></a>"
      ]
    },
    {
      "cell_type": "markdown",
      "metadata": {
        "id": "84O0rwf3DJvU"
      },
      "source": [
        "##Projeto Detetive"
      ]
    },
    {
      "cell_type": "code",
      "metadata": {
        "id": "T8s0HsKEDO3o",
        "colab": {
          "base_uri": "https://localhost:8080/"
        },
        "outputId": "5f6f84f1-de49-4647-9db8-b077f00d5d43"
      },
      "source": [
        "#Introdução ao projeto. Foi utilizado: biblioteca panda, range, in \n",
        "\n",
        "print ('Sua missão é descobrir o assassino do ministro da justiça com apenas 5 perguntas. AVISO! Essa mensagem será destruída em 5 segundos')\n",
        "from time import sleep\n",
        "for n in range(5,0,-1):\n",
        "  print(n)\n",
        "  sleep(0.5)\n",
        "\n",
        "print ('''\n",
        " _                           \n",
        "| |                          \n",
        "| |__   ___   ___  _ __ ___  \n",
        "| '_ \\ / _ \\ / _ \\| '_ ` _ \\ \n",
        "| |_) | (_) | (_) | | | | | |\n",
        "|_.__/ \\___/ \\___/|_| |_| |_|\n",
        "                           \n",
        "\n",
        "''')\n",
        "\n",
        "## Para realização do projeto foi utilizado: Variáveis, Print, Input e Condicionais\n",
        "\n",
        "telefone = str (input ('Você telefonou para a vítima? [S/N] ')).upper()\n",
        "local = str (input ('Você esteve no local do crime? [S/N] ')).upper()\n",
        "vizinho = str (input ('Você mora perto da vítima? [S/N] ')).upper()\n",
        "dever = str (input ('Você devia para a vítima?[S/N] ')).upper()\n",
        "trabalho = str (input ('Você já trabalhou coma vítima?[S/N] ')).upper()\n",
        "  \n",
        "contador =0\n",
        "\n",
        "if telefone == 'S':\n",
        "   contador+=1\n",
        "\n",
        "if local == 'S':\n",
        "   contador+=1\n",
        "   \n",
        "if vizinho == 'S':\n",
        "   contador+=1\n",
        "\n",
        "if dever == 'S':\n",
        "   contador+=1\n",
        "   \n",
        "if trabalho == 'S':\n",
        "   contador+=1   \n",
        "\n",
        "if contador  == 2:\n",
        "  print('Suspeito. Deixe o ir, mas fique de olho!')\n",
        "elif contador >= 3 and contador<=4:\n",
        "   print('Cumplíce.Se prepare para correr atrás dele!')\n",
        "elif contador  == 5:  \n",
        "    print('Assassino.Se prepare para lutar!')\n",
        "else:\n",
        "    print('Inocente.Até que se prove o contrário...')"
      ],
      "execution_count": 3,
      "outputs": [
        {
          "output_type": "stream",
          "text": [
            "Sua missão é descobrir o assassino do ministro da justiça com apenas 5 perguntas. AVISO! Essa mensagem será destruída em 5 segundos\n",
            "5\n",
            "4\n",
            "3\n",
            "2\n",
            "1\n",
            "\n",
            " _                           \n",
            "| |                          \n",
            "| |__   ___   ___  _ __ ___  \n",
            "| '_ \\ / _ \\ / _ \\| '_ ` _ \\ \n",
            "| |_) | (_) | (_) | | | | | |\n",
            "|_.__/ \\___/ \\___/|_| |_| |_|\n",
            "                           \n",
            "\n",
            "\n",
            "Você telefonou para a vítima? [S/N] S\n",
            "Você esteve no local do crime? [S/N] S\n",
            "Você mora perto da vítima? [S/N] S\n",
            "Você devia para a vítima?[S/N] S\n",
            "Você já trabalhou coma vítima?[S/N] S\n",
            "Assassino.Se prepare para lutar!\n"
          ],
          "name": "stdout"
        }
      ]
    },
    {
      "cell_type": "code",
      "metadata": {
        "id": "C35rxWt54o7f"
      },
      "source": [
        ""
      ],
      "execution_count": null,
      "outputs": []
    }
  ]
}